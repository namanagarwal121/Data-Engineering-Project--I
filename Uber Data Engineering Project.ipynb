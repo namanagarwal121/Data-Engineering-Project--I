{
 "cells": [
  {
   "cell_type": "code",
   "execution_count": 114,
   "id": "d4ca5870",
   "metadata": {},
   "outputs": [],
   "source": [
    "import pandas as pd"
   ]
  },
  {
   "cell_type": "code",
   "execution_count": 115,
   "id": "5b703427",
   "metadata": {},
   "outputs": [],
   "source": [
    "df=pd.read_csv(\"uber_data.csv\")"
   ]
  },
  {
   "cell_type": "code",
   "execution_count": 116,
   "id": "7d3f63c8",
   "metadata": {},
   "outputs": [],
   "source": [
    "df[\"tpep_pickup_datetime\"]=pd.to_datetime(df[\"tpep_pickup_datetime\"])\n",
    "df[\"tpep_dropoff_datetime\"]=pd.to_datetime(df[\"tpep_dropoff_datetime\"])"
   ]
  },
  {
   "cell_type": "code",
   "execution_count": 117,
   "id": "22c8b5d4",
   "metadata": {},
   "outputs": [],
   "source": [
    "df = df.drop_duplicates().reset_index(drop=True)\n",
    "df['trip_id'] = df.index"
   ]
  },
  {
   "cell_type": "code",
   "execution_count": 118,
   "id": "fc427118",
   "metadata": {},
   "outputs": [],
   "source": [
    "datetime_dim = df[['tpep_pickup_datetime','tpep_dropoff_datetime']].reset_index(drop=True)\n",
    "\n",
    "datetime_dim[\"Datetime_id\"]=datetime_dim.index\n",
    "\n",
    "datetime_dim[\"tpep_pickup_datetime\"]=datetime_dim[\"tpep_pickup_datetime\"]\n",
    "datetime_dim[\"pick_hour\"]=datetime_dim[\"tpep_pickup_datetime\"].dt.hour\n",
    "datetime_dim[\"pick_day\"]=datetime_dim[\"tpep_pickup_datetime\"].dt.day\n",
    "datetime_dim[\"pick_month\"]=datetime_dim[\"tpep_pickup_datetime\"].dt.month\n",
    "datetime_dim[\"pick_year\"]=datetime_dim[\"tpep_pickup_datetime\"].dt.year\n",
    "datetime_dim[\"pick_weekday\"]=datetime_dim[\"tpep_pickup_datetime\"].dt.weekday\n",
    "\n",
    "datetime_dim[\"tpep_dropoff_datetime\"]=datetime_dim[\"tpep_dropoff_datetime\"]\n",
    "datetime_dim[\"drop_hour\"]=datetime_dim[\"tpep_pickup_datetime\"].dt.hour\n",
    "datetime_dim[\"drop_day\"]=datetime_dim[\"tpep_pickup_datetime\"].dt.day\n",
    "datetime_dim[\"drop_month\"]=datetime_dim[\"tpep_pickup_datetime\"].dt.month\n",
    "datetime_dim[\"drop_year\"]=datetime_dim[\"tpep_pickup_datetime\"].dt.year\n",
    "datetime_dim[\"drop_weekday\"]=datetime_dim[\"tpep_pickup_datetime\"].dt.weekday"
   ]
  },
  {
   "cell_type": "code",
   "execution_count": 119,
   "id": "61979a99",
   "metadata": {},
   "outputs": [],
   "source": [
    "passenger_count_dim = df[['passenger_count']].reset_index(drop=True)\n",
    "passenger_count_dim['passenger_count_id'] = passenger_count_dim.index\n",
    "passenger_count_dim = passenger_count_dim[['passenger_count_id','passenger_count']]\n"
   ]
  },
  {
   "cell_type": "code",
   "execution_count": 120,
   "id": "748d1e23",
   "metadata": {},
   "outputs": [],
   "source": [
    "trip_distance_dim = df[['trip_distance']].reset_index(drop=True)\n",
    "trip_distance_dim['trip_distance_id'] = trip_distance_dim.index\n",
    "trip_distance_dim = trip_distance_dim[['trip_distance_id','trip_distance']]"
   ]
  },
  {
   "cell_type": "code",
   "execution_count": 121,
   "id": "f6f3e366",
   "metadata": {
    "scrolled": true
   },
   "outputs": [],
   "source": [
    "pickup_location_dim=df[[\"pickup_longitude\",\"pickup_latitude\"]].reset_index(drop=True)\n",
    "pickup_location_dim[\"pickup_location_id\"]=pickup_location_dim.index"
   ]
  },
  {
   "cell_type": "code",
   "execution_count": 122,
   "id": "24861ec9",
   "metadata": {},
   "outputs": [],
   "source": [
    "dropoff_location_dim=df[[\"dropoff_longitude\",\"dropoff_latitude\"]].reset_index(drop=True)\n",
    "dropoff_location_dim[\"dropoff_location_id\"]=dropoff_location_dim.index"
   ]
  },
  {
   "cell_type": "code",
   "execution_count": 123,
   "id": "37c41485",
   "metadata": {},
   "outputs": [],
   "source": [
    "rate_code_mapping = {\n",
    "    1: \"Standard rate\",\n",
    "    2: \"JFK\",\n",
    "    3: \"Newark\",\n",
    "    4: \"Nassau or Westchester\",\n",
    "    5: \"Negotiated fare\",\n",
    "    6: \"Group ride\"\n",
    "}\n",
    "\n",
    "rate_code_dim = df[\"RatecodeID\"].drop_duplicates().reset_index(drop=True)\n",
    "rate_code_dim = pd.DataFrame({'rate_code_id': rate_code_dim.index, 'RatecodeID': rate_code_dim})\n",
    "rate_code_dim['rate_code_name'] = rate_code_dim['RatecodeID'].map(rate_code_mapping)\n",
    "rate_code_dim = rate_code_dim[['rate_code_id', 'RatecodeID', 'rate_code_name']]\n"
   ]
  },
  {
   "cell_type": "code",
   "execution_count": 124,
   "id": "f7071984",
   "metadata": {},
   "outputs": [],
   "source": [
    "payment_type_mapping = {\n",
    "    1: \"Credit card\",\n",
    "    2: \"Cash\",\n",
    "    3: \"No charge\",\n",
    "    4: \"Dispute\",\n",
    "    5: \"Unknown\",\n",
    "    6: \"Voided trip\"\n",
    "}\n",
    "\n",
    "payment_type_dim = df[\"payment_type\"].drop_duplicates().reset_index(drop=True)\n",
    "payment_type_dim = pd.DataFrame({'payment_type_id': payment_type_dim.index, 'payment_type': payment_type_dim})\n",
    "payment_type_dim['payment_type_name'] = payment_type_dim['payment_type_id'].map(payment_type_mapping)\n",
    "\n",
    "payment_type_dim = payment_type_dim[['payment_type_id', 'payment_type', 'payment_type_name']]\n"
   ]
  },
  {
   "cell_type": "code",
   "execution_count": 125,
   "id": "73277892",
   "metadata": {},
   "outputs": [
    {
     "data": {
      "text/html": [
       "<div>\n",
       "<style scoped>\n",
       "    .dataframe tbody tr th:only-of-type {\n",
       "        vertical-align: middle;\n",
       "    }\n",
       "\n",
       "    .dataframe tbody tr th {\n",
       "        vertical-align: top;\n",
       "    }\n",
       "\n",
       "    .dataframe thead th {\n",
       "        text-align: right;\n",
       "    }\n",
       "</style>\n",
       "<table border=\"1\" class=\"dataframe\">\n",
       "  <thead>\n",
       "    <tr style=\"text-align: right;\">\n",
       "      <th></th>\n",
       "      <th>payment_type_id</th>\n",
       "      <th>payment_type</th>\n",
       "      <th>payment_type_name</th>\n",
       "    </tr>\n",
       "  </thead>\n",
       "  <tbody>\n",
       "    <tr>\n",
       "      <th>0</th>\n",
       "      <td>0</td>\n",
       "      <td>1</td>\n",
       "      <td>NaN</td>\n",
       "    </tr>\n",
       "    <tr>\n",
       "      <th>1</th>\n",
       "      <td>1</td>\n",
       "      <td>2</td>\n",
       "      <td>Credit card</td>\n",
       "    </tr>\n",
       "    <tr>\n",
       "      <th>2</th>\n",
       "      <td>2</td>\n",
       "      <td>3</td>\n",
       "      <td>Cash</td>\n",
       "    </tr>\n",
       "    <tr>\n",
       "      <th>3</th>\n",
       "      <td>3</td>\n",
       "      <td>4</td>\n",
       "      <td>No charge</td>\n",
       "    </tr>\n",
       "  </tbody>\n",
       "</table>\n",
       "</div>"
      ],
      "text/plain": [
       "   payment_type_id  payment_type payment_type_name\n",
       "0                0             1               NaN\n",
       "1                1             2       Credit card\n",
       "2                2             3              Cash\n",
       "3                3             4         No charge"
      ]
     },
     "execution_count": 125,
     "metadata": {},
     "output_type": "execute_result"
    }
   ],
   "source": [
    "payment_type_dim"
   ]
  },
  {
   "cell_type": "code",
   "execution_count": 129,
   "id": "00873916",
   "metadata": {},
   "outputs": [],
   "source": [
    "fact_table = df.merge(passenger_count_dim, left_on='trip_id', right_on='passenger_count_id') \\\n",
    "             .merge(trip_distance_dim, left_on='trip_id', right_on='trip_distance_id') \\\n",
    "             .merge(rate_code_dim, left_on='trip_id', right_on='rate_code_id') \\\n",
    "             .merge(pickup_location_dim, left_on='trip_id', right_on='pickup_location_id') \\\n",
    "             .merge(dropoff_location_dim, left_on='trip_id', right_on='dropoff_location_id') \\\n",
    "             .merge(datetime_dim, left_on='trip_id', right_on='Datetime_id') \\\n",
    "             .merge(payment_type_dim, left_on='trip_id', right_on='payment_type_id') \\\n",
    "             [['trip_id', 'VendorID', 'Datetime_id', 'passenger_count_id',\n",
    "               'trip_distance_id', 'rate_code_id', 'store_and_fwd_flag', 'pickup_location_id', 'dropoff_location_id',\n",
    "               'payment_type_id', 'fare_amount', 'extra', 'mta_tax', 'tip_amount', 'tolls_amount',\n",
    "               'improvement_surcharge', 'total_amount']]\n"
   ]
  },
  {
   "cell_type": "code",
   "execution_count": 130,
   "id": "1ecaa0fb",
   "metadata": {},
   "outputs": [
    {
     "data": {
      "text/html": [
       "<div>\n",
       "<style scoped>\n",
       "    .dataframe tbody tr th:only-of-type {\n",
       "        vertical-align: middle;\n",
       "    }\n",
       "\n",
       "    .dataframe tbody tr th {\n",
       "        vertical-align: top;\n",
       "    }\n",
       "\n",
       "    .dataframe thead th {\n",
       "        text-align: right;\n",
       "    }\n",
       "</style>\n",
       "<table border=\"1\" class=\"dataframe\">\n",
       "  <thead>\n",
       "    <tr style=\"text-align: right;\">\n",
       "      <th></th>\n",
       "      <th>trip_id</th>\n",
       "      <th>VendorID</th>\n",
       "      <th>Datetime_id</th>\n",
       "      <th>passenger_count_id</th>\n",
       "      <th>trip_distance_id</th>\n",
       "      <th>rate_code_id</th>\n",
       "      <th>store_and_fwd_flag</th>\n",
       "      <th>pickup_location_id</th>\n",
       "      <th>dropoff_location_id</th>\n",
       "      <th>payment_type_id</th>\n",
       "      <th>fare_amount</th>\n",
       "      <th>extra</th>\n",
       "      <th>mta_tax</th>\n",
       "      <th>tip_amount</th>\n",
       "      <th>tolls_amount</th>\n",
       "      <th>improvement_surcharge</th>\n",
       "      <th>total_amount</th>\n",
       "    </tr>\n",
       "  </thead>\n",
       "  <tbody>\n",
       "    <tr>\n",
       "      <th>0</th>\n",
       "      <td>0</td>\n",
       "      <td>1</td>\n",
       "      <td>0</td>\n",
       "      <td>0</td>\n",
       "      <td>0</td>\n",
       "      <td>0</td>\n",
       "      <td>N</td>\n",
       "      <td>0</td>\n",
       "      <td>0</td>\n",
       "      <td>0</td>\n",
       "      <td>9.0</td>\n",
       "      <td>0.5</td>\n",
       "      <td>0.5</td>\n",
       "      <td>2.05</td>\n",
       "      <td>0.00</td>\n",
       "      <td>0.3</td>\n",
       "      <td>12.35</td>\n",
       "    </tr>\n",
       "    <tr>\n",
       "      <th>1</th>\n",
       "      <td>1</td>\n",
       "      <td>1</td>\n",
       "      <td>1</td>\n",
       "      <td>1</td>\n",
       "      <td>1</td>\n",
       "      <td>1</td>\n",
       "      <td>N</td>\n",
       "      <td>1</td>\n",
       "      <td>1</td>\n",
       "      <td>1</td>\n",
       "      <td>11.0</td>\n",
       "      <td>0.5</td>\n",
       "      <td>0.5</td>\n",
       "      <td>3.05</td>\n",
       "      <td>0.00</td>\n",
       "      <td>0.3</td>\n",
       "      <td>15.35</td>\n",
       "    </tr>\n",
       "    <tr>\n",
       "      <th>2</th>\n",
       "      <td>2</td>\n",
       "      <td>2</td>\n",
       "      <td>2</td>\n",
       "      <td>2</td>\n",
       "      <td>2</td>\n",
       "      <td>2</td>\n",
       "      <td>N</td>\n",
       "      <td>2</td>\n",
       "      <td>2</td>\n",
       "      <td>2</td>\n",
       "      <td>54.5</td>\n",
       "      <td>0.5</td>\n",
       "      <td>0.5</td>\n",
       "      <td>8.00</td>\n",
       "      <td>0.00</td>\n",
       "      <td>0.3</td>\n",
       "      <td>63.80</td>\n",
       "    </tr>\n",
       "    <tr>\n",
       "      <th>3</th>\n",
       "      <td>3</td>\n",
       "      <td>2</td>\n",
       "      <td>3</td>\n",
       "      <td>3</td>\n",
       "      <td>3</td>\n",
       "      <td>3</td>\n",
       "      <td>N</td>\n",
       "      <td>3</td>\n",
       "      <td>3</td>\n",
       "      <td>3</td>\n",
       "      <td>31.5</td>\n",
       "      <td>0.0</td>\n",
       "      <td>0.5</td>\n",
       "      <td>3.78</td>\n",
       "      <td>5.54</td>\n",
       "      <td>0.3</td>\n",
       "      <td>41.62</td>\n",
       "    </tr>\n",
       "  </tbody>\n",
       "</table>\n",
       "</div>"
      ],
      "text/plain": [
       "   trip_id  VendorID  Datetime_id  passenger_count_id  trip_distance_id  \\\n",
       "0        0         1            0                   0                 0   \n",
       "1        1         1            1                   1                 1   \n",
       "2        2         2            2                   2                 2   \n",
       "3        3         2            3                   3                 3   \n",
       "\n",
       "   rate_code_id store_and_fwd_flag  pickup_location_id  dropoff_location_id  \\\n",
       "0             0                  N                   0                    0   \n",
       "1             1                  N                   1                    1   \n",
       "2             2                  N                   2                    2   \n",
       "3             3                  N                   3                    3   \n",
       "\n",
       "   payment_type_id  fare_amount  extra  mta_tax  tip_amount  tolls_amount  \\\n",
       "0                0          9.0    0.5      0.5        2.05          0.00   \n",
       "1                1         11.0    0.5      0.5        3.05          0.00   \n",
       "2                2         54.5    0.5      0.5        8.00          0.00   \n",
       "3                3         31.5    0.0      0.5        3.78          5.54   \n",
       "\n",
       "   improvement_surcharge  total_amount  \n",
       "0                    0.3         12.35  \n",
       "1                    0.3         15.35  \n",
       "2                    0.3         63.80  \n",
       "3                    0.3         41.62  "
      ]
     },
     "execution_count": 130,
     "metadata": {},
     "output_type": "execute_result"
    }
   ],
   "source": [
    "fact_table"
   ]
  },
  {
   "cell_type": "code",
   "execution_count": null,
   "id": "b0e56826",
   "metadata": {},
   "outputs": [],
   "source": []
  }
 ],
 "metadata": {
  "kernelspec": {
   "display_name": "Python 3 (ipykernel)",
   "language": "python",
   "name": "python3"
  },
  "language_info": {
   "codemirror_mode": {
    "name": "ipython",
    "version": 3
   },
   "file_extension": ".py",
   "mimetype": "text/x-python",
   "name": "python",
   "nbconvert_exporter": "python",
   "pygments_lexer": "ipython3",
   "version": "3.11.5"
  }
 },
 "nbformat": 4,
 "nbformat_minor": 5
}
